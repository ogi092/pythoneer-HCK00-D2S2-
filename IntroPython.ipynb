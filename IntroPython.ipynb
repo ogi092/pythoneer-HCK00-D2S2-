{
  "cells": [
    {
      "cell_type": "markdown",
      "metadata": {
        "id": "0gYOHY9DFk4B"
      },
      "source": [
        "# Introduction to Python\n",
        "\n",
        "- Variable\n",
        "- Data Type Primary\n",
        "  - Number\n",
        "    - Integer\n",
        "    - Float\n",
        "  - String\n",
        "  - Boolean\n",
        "- Data Type Array (Collections of Data)\n",
        "  - List\n",
        "  - Tuple\n",
        "  - Dictionary\n",
        "  - Set\n",
        "- Operation\n"
      ]
    },
    {
      "cell_type": "markdown",
      "metadata": {
        "id": "hOxhspEjsMB3"
      },
      "source": [
        "---\n",
        "\n",
        "Nama  :  Ogi Hadicahyo  \n",
        "Batch :  HCK-012\n",
        "\n",
        "---"
      ]
    },
    {
      "cell_type": "code",
      "execution_count": null,
      "metadata": {
        "colab": {
          "base_uri": "https://localhost:8080/"
        },
        "id": "GDFs8DJ5r3J7",
        "outputId": "68a6a7c8-01a2-48ad-fc45-2397013030a9"
      },
      "outputs": [
        {
          "name": "stdout",
          "output_type": "stream",
          "text": [
            "HELLO\n"
          ]
        }
      ],
      "source": [
        "# Run this block code\n",
        "print(\"HELLO\")\n",
        "\n",
        "# print(\"WORLD\")"
      ]
    },
    {
      "cell_type": "markdown",
      "metadata": {
        "id": "dLKmJt2KJNDu"
      },
      "source": [
        "# Variable\n",
        "\n",
        "Rules dari membuat nama variable:\n",
        "- Dimulai dengan huruf\n",
        "- Perhatikan plural / singular jika dalam bahasa inggris\n",
        "- bisa camelCase, PascalCase, snake_case tidak kebab-case.\n",
        "\n",
        "\n",
        "Buatlah 3 variable yaitu:\n",
        "- variable name dan isi dengan namamu\n",
        "- variable favoriteNumber isi dengan angka kesukaanmu\n",
        "- variable isHungry dan isi True jika kamu lapar dann False jika kamu tidak lapar"
      ]
    },
    {
      "cell_type": "code",
      "execution_count": 1,
      "metadata": {
        "id": "vH5lUI0kqAxa"
      },
      "outputs": [],
      "source": [
        "# Code dibawah ini\n",
        "nama = \"Ogi\"\n",
        "favoriteNumber = 3\n",
        "isHungry = False"
      ]
    },
    {
      "cell_type": "markdown",
      "metadata": {
        "id": "LP6QVd2HqZiR"
      },
      "source": [
        "# Data Type Primary"
      ]
    },
    {
      "cell_type": "markdown",
      "metadata": {
        "id": "ria_IrJ1qRpl"
      },
      "source": [
        "## Data Type Number\n",
        "\n",
        "Terdapat Integer dan Float"
      ]
    },
    {
      "cell_type": "code",
      "execution_count": 21,
      "metadata": {
        "id": "Yc19bHtfqQ-9"
      },
      "outputs": [
        {
          "name": "stdout",
          "output_type": "stream",
          "text": [
            "10\n",
            "<class 'int'>\n",
            "True\n",
            "15\n",
            "==========\n",
            "13.5\n",
            "ogi5shi\n",
            "7\n",
            "og\n"
          ]
        }
      ],
      "source": [
        "# Latihan kode disini (Ikuti dalam kelas)\n",
        "favoriteNumber = 10\n",
        "print(favoriteNumber)\n",
        "print(type(favoriteNumber))\n",
        "print(favoriteNumber == favoriteNumber) # equal, > >= < <=, != not equal\n",
        "\n",
        "favoriteNumber += 5\n",
        "print(favoriteNumber)\n",
        "print(\"==========\")\n",
        "\n",
        "# favorite number dikurangin 10%\n",
        "favoriteNumber = favoriteNumber - favoriteNumber/10\n",
        "print(favoriteNumber)\n",
        "\n",
        "nama = \"ogi\"\n",
        "#Coba tambahkan angka ke string\n",
        "nama += str(5)\n",
        "nama += \"shi\"\n",
        "print(nama)\n",
        "\n",
        "#coa fungsi len dengan ada spasi\n",
        "print(len(nama))\n",
        "\n",
        "#coba akses karakter pertama dan kedua\n",
        "print(nama[0:2])"
      ]
    },
    {
      "cell_type": "code",
      "execution_count": null,
      "metadata": {},
      "outputs": [],
      "source": []
    },
    {
      "cell_type": "markdown",
      "metadata": {
        "id": "kN7khB5IqC7K"
      },
      "source": [
        "## Data Type String\n",
        "\n",
        "Peruntukannya untuk text dapat menggunakan kutip 1 atau 2 ' \""
      ]
    },
    {
      "cell_type": "code",
      "execution_count": null,
      "metadata": {
        "id": "JErM3SdVFh9H"
      },
      "outputs": [],
      "source": [
        "# Latihan kode disini (Ikuti dalam kelas)"
      ]
    },
    {
      "cell_type": "markdown",
      "metadata": {
        "id": "Wi4SejTIqb7o"
      },
      "source": [
        "## Data Type Boolean\n",
        "\n",
        "Yaitu True dan False"
      ]
    },
    {
      "cell_type": "code",
      "execution_count": null,
      "metadata": {
        "id": "reRugMYIqhQ0"
      },
      "outputs": [],
      "source": [
        "# Latihan kode disini (Ikuti dalam kelas)\n",
        "\n",
        "# print(1 == True)\n",
        "# print(0 == False)"
      ]
    },
    {
      "cell_type": "code",
      "execution_count": 30,
      "metadata": {},
      "outputs": [
        {
          "name": "stdout",
          "output_type": "stream",
          "text": [
            "ogi5shi 13.5 False\n",
            "aku punya adik yang bernama ogi5shi, dia menyukai angka 13.5\n"
          ]
        }
      ],
      "source": [
        "print (nama, favoriteNumber, isHungry)\n",
        "print(f\"aku punya adik yang bernama {nama}, dia menyukai angka {favoriteNumber}\")"
      ]
    },
    {
      "cell_type": "markdown",
      "metadata": {
        "id": "jnEuh5gQqkzn"
      },
      "source": [
        "# Data Type Array / Data Type For Collections of Data\n",
        "\n",
        "Kalo w3school menyebutkannya sebagai [Python Collections (Arrays)](https://www.w3schools.com/python/python_lists.asp#:~:text=Python%20Collections%20(Arrays)).\n",
        "\n",
        "----- note disini latihan menggunakaan markdown text yaa..\n",
        "\n"
      ]
    },
    {
      "cell_type": "markdown",
      "metadata": {},
      "source": [
        "## List []"
      ]
    },
    {
      "cell_type": "code",
      "execution_count": 43,
      "metadata": {},
      "outputs": [
        {
          "name": "stdout",
          "output_type": "stream",
          "text": [
            "['wayang', 'ical', 'memet', 'ogi']\n",
            "<class 'list'>\n",
            "memet\n",
            "4\n",
            "['wayang', 'ical', 'ogi', 'amack']\n",
            "amack\n",
            "amack\n"
          ]
        }
      ],
      "source": [
        "names = [\"wayang\",\"ical\", \"memet\",\"ogi\"]\n",
        "print(names)\n",
        "print(type(names))\n",
        "print(names[2])\n",
        "\n",
        "#Jumlah value/data/elemen \n",
        "print(len(names))\n",
        "\n",
        "#Hapus & menambahkan data\n",
        "names.remove(\"memet\")\n",
        "names.append(\"amack\")\n",
        "print(names)\n",
        "\n",
        "#mengakses indeks terakhir\n",
        "#cara 1\n",
        "n = len(names) - 1\n",
        "print(names[n])\n",
        "\n",
        "#cara 2\n",
        "print(names[-1])"
      ]
    },
    {
      "cell_type": "code",
      "execution_count": 44,
      "metadata": {},
      "outputs": [
        {
          "name": "stdout",
          "output_type": "stream",
          "text": [
            "[1000, 400, 30, 4500]\n",
            "[30, 400, 1000, 4500]\n",
            "[4500, 1000, 400, 30]\n"
          ]
        }
      ],
      "source": [
        "numbers = [1000,400,30,4500]\n",
        "print (numbers)\n",
        "\n",
        "#Default ascending\n",
        "numbers.sort()\n",
        "print(numbers)\n",
        "\n",
        "#Descending\n",
        "numbers.sort(reverse=True)\n",
        "print(numbers)\n",
        "\n"
      ]
    },
    {
      "cell_type": "markdown",
      "metadata": {},
      "source": [
        "### Pass Refrence"
      ]
    },
    {
      "cell_type": "code",
      "execution_count": 46,
      "metadata": {},
      "outputs": [
        {
          "name": "stdout",
          "output_type": "stream",
          "text": [
            "['sushi', 'martabak', 'Telor', 'Yakult']\n",
            "['sushi', 'martabak', 'Telor', 'Yakult']\n"
          ]
        }
      ],
      "source": [
        "listMakanan =[\"sushi\", \"martabak\", \"Telor\"]\n",
        "listMakananFavorite = listMakanan\n",
        "listMakananFavorite.append(\"Yakult\")\n",
        "#keduanya berubah\n",
        "print(listMakananFavorite)\n",
        "print(listMakanan)"
      ]
    },
    {
      "cell_type": "markdown",
      "metadata": {},
      "source": [
        "### cara hande pass refrence"
      ]
    },
    {
      "cell_type": "code",
      "execution_count": 47,
      "metadata": {},
      "outputs": [
        {
          "name": "stdout",
          "output_type": "stream",
          "text": [
            "['sushi', 'martabak', 'Telor', 'Yakult']\n",
            "['sushi', 'martabak', 'Telor', 'Yakult', 'Susu']\n"
          ]
        }
      ],
      "source": [
        "listMakananFavorite = listMakanan.copy()\n",
        "listMakananFavorite.append(\"Susu\")\n",
        "print(listMakanan)\n",
        "print(listMakananFavorite)"
      ]
    },
    {
      "cell_type": "code",
      "execution_count": 49,
      "metadata": {},
      "outputs": [
        {
          "name": "stdout",
          "output_type": "stream",
          "text": [
            "['martabak', 'Telor', 'Yakult']\n",
            "['sushi', 'martabak', 'Telor', 'Yakult']\n"
          ]
        }
      ],
      "source": [
        "print(listMakananFavorite[1:4])\n",
        "print(listMakananFavorite[:4])"
      ]
    },
    {
      "cell_type": "markdown",
      "metadata": {},
      "source": [
        "### Tuple ()"
      ]
    },
    {
      "cell_type": "code",
      "execution_count": 55,
      "metadata": {},
      "outputs": [
        {
          "name": "stdout",
          "output_type": "stream",
          "text": [
            "('sukma', 'adit', 'randy', 'bahdul', 'sukma')\n",
            "<class 'tuple'>\n",
            "5\n"
          ]
        }
      ],
      "source": [
        "listPejabat = ('sukma','adit','randy','bahdul','sukma')\n",
        "print(listPejabat)\n",
        "print(type(listPejabat))\n",
        "print(len(listPejabat))\n"
      ]
    },
    {
      "cell_type": "markdown",
      "metadata": {},
      "source": [
        "## Set"
      ]
    },
    {
      "cell_type": "code",
      "execution_count": 56,
      "metadata": {},
      "outputs": [
        {
          "name": "stdout",
          "output_type": "stream",
          "text": [
            "{'sukma', 'adit', 'bahdul', 'randy'}\n",
            "4\n"
          ]
        }
      ],
      "source": [
        "listPejabat = set(listPejabat)\n",
        "print(listPejabat)\n",
        "print(len(listPejabat))"
      ]
    },
    {
      "cell_type": "code",
      "execution_count": 60,
      "metadata": {},
      "outputs": [
        {
          "name": "stdout",
          "output_type": "stream",
          "text": [
            "{'Name': 'Idung', 'age': 26, 'weight': 5.5, 'height': 30}\n",
            "4\n",
            "Idung\n",
            "{'Name': 'Idung', 'age': 26, 'weight': 5.5, 'height': 30, 'isVaksin': True}\n",
            "{'Name': 'Agung', 'age': 26, 'weight': 5.5, 'height': 30, 'isVaksin': True}\n"
          ]
        }
      ],
      "source": [
        "PersianCat ={\n",
        "    'Name'  : 'Idung',\n",
        "    'age'   : 26,\n",
        "    'weight' : 5.5,\n",
        "    'height' : 30\n",
        "}\n",
        "\n",
        "print(PersianCat)\n",
        "print(len(PersianCat))\n",
        "\n",
        "#Akses value dengan keyname (Bukan Index)\n",
        "print(PersianCat['Name'])\n",
        "\n",
        "#Menambahkan keyname dan value baru\n",
        "PersianCat['isVaksin'] = True \n",
        "print(PersianCat)\n",
        "\n",
        "#Mengubah value (jika keyname tsb sudah ada)\n",
        "PersianCat['Name'] = 'Agung'\n",
        "print(PersianCat)"
      ]
    },
    {
      "cell_type": "markdown",
      "metadata": {},
      "source": [
        "## EXCERCISE"
      ]
    },
    {
      "cell_type": "code",
      "execution_count": 62,
      "metadata": {},
      "outputs": [
        {
          "name": "stdout",
          "output_type": "stream",
          "text": [
            "5\n",
            "Revo Ayu\n",
            "[100, 100, 90, 90, 100, 50]\n",
            "100\n",
            "50\n"
          ]
        }
      ],
      "source": [
        "listAlphabet = [\n",
        "    [0, 'Ayu', 'Bita', 'Cinta'],\n",
        "    [1, 'Dian', 'Ersa', 'Fanta'],\n",
        "    [2, 'G', 'H', 'I'] \n",
        "]\n",
        "\n",
        "print(len(listAlphabet[1][-1]))\n",
        "\n",
        "listHck12 = {\n",
        "    \"students\": ['Bita','Revo','Nicku','Samuel','Panji','Yuda'],\n",
        "    \"Buddy\": ['Ayu','Ayu','Ayu','Sapta','Sapta','Ayu'],\n",
        "    \"Scores\": [100,100,90,90,100,50]\n",
        "}\n",
        "\n",
        "print(listHck12['students'][1],listHck12['Buddy'][1])\n",
        "print(listHck12['Scores'])\n",
        "print(max(listHck12['Scores']))\n",
        "print(min(listHck12['Scores']))"
      ]
    },
    {
      "cell_type": "markdown",
      "metadata": {},
      "source": [
        "listAlphabet = [\n",
        "    [0, 'Ayu', 'Bita, 'Cinta']\n",
        "]"
      ]
    }
  ],
  "metadata": {
    "colab": {
      "provenance": []
    },
    "kernelspec": {
      "display_name": "Python 3",
      "name": "python3"
    },
    "language_info": {
      "codemirror_mode": {
        "name": "ipython",
        "version": 3
      },
      "file_extension": ".py",
      "mimetype": "text/x-python",
      "name": "python",
      "nbconvert_exporter": "python",
      "pygments_lexer": "ipython3",
      "version": "3.11.5"
    }
  },
  "nbformat": 4,
  "nbformat_minor": 0
}
